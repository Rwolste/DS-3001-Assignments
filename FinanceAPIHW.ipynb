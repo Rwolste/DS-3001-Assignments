{
  "nbformat": 4,
  "nbformat_minor": 0,
  "metadata": {
    "colab": {
      "provenance": [],
      "authorship_tag": "ABX9TyPPoWUJaLK3PJPq6nz4NOM+",
      "include_colab_link": true
    },
    "kernelspec": {
      "name": "python3",
      "display_name": "Python 3"
    },
    "language_info": {
      "name": "python"
    }
  },
  "cells": [
    {
      "cell_type": "markdown",
      "metadata": {
        "id": "view-in-github",
        "colab_type": "text"
      },
      "source": [
        "<a href=\"https://colab.research.google.com/github/Rwolste/DS-3001-Assignments/blob/main/FinanceAPIHW.ipynb\" target=\"_parent\"><img src=\"https://colab.research.google.com/assets/colab-badge.svg\" alt=\"Open In Colab\"/></a>"
      ]
    },
    {
      "cell_type": "code",
      "source": [
        "import requests\n",
        "import pandas as pd\n",
        "\n",
        "def fetch_stock_data(symbols):\n",
        "    url = f\"https://yfapi.net/v6/finance/quote?region=US&lang=en&symbols={','.join(symbols)}\"\n",
        "    headers = {\"x-api-key\": \"mNeekuVLCe76wmMeBT7xU1dr0DNCGT5Ljre8w3Ba\"}\n",
        "    response = requests.get(url, headers=headers).json()\n",
        "\n",
        "    if 'quoteResponse' not in response or 'result' not in response['quoteResponse']:\n",
        "        return \"Error: Invalid response received from API.\"\n",
        "\n",
        "    stocks = []\n",
        "    for stock in response['quoteResponse']['result']:\n",
        "        stocks.append({\n",
        "            'Stock Ticker': stock.get('symbol', 'N/A'),\n",
        "            'Company': stock.get('longName', 'N/A'),\n",
        "            'Current Market Price': f\"${stock.get('regularMarketPrice', 0):.2f}\",\n",
        "            '52 Week High': stock.get('fiftyTwoWeekHigh', 'N/A'),\n",
        "            '52 Week Low': stock.get('fiftyTwoWeekLow', 'N/A')\n",
        "        })\n",
        "\n",
        "    return stocks\n",
        "\n",
        "def fetch_additional_data(symbol, module):\n",
        "    url = f\"https://yfapi.net/v6/finance/quote?region=US&lang=en&symbols={symbol}\"\n",
        "    headers = {\"x-api-key\": \"mNeekuVLCe76wmMeBT7xU1dr0DNCGT5Ljre8w3Ba\"}\n",
        "    response = requests.get(url, headers=headers).json()\n",
        "\n",
        "    if 'quoteResponse' not in response or 'result' not in response['quoteResponse']:\n",
        "        return \"Error: Invalid response received from API.\"\n",
        "\n",
        "    stock_data = response['quoteResponse']['result'][0]\n",
        "    data = {\n",
        "        '52 Week High': stock_data.get('fiftyTwoWeekHigh', 'N/A'),\n",
        "        '52 Week Low': stock_data.get('fiftyTwoWeekLow', 'N/A'),\n",
        "        'Return on Assets (ROA)': stock_data.get('returnOnAssets', 'N/A')\n",
        "    }\n",
        "    if module == '52 Week High':\n",
        "        data = {'52 Week High': stock_data.get('fiftyTwoWeekHigh', 'N/A')}\n",
        "\n",
        "    elif module == '52 Week Low':\n",
        "        data = {'52 Week Low': stock_data.get('fiftyTwoWeekLow', 'N/A')}\n",
        "\n",
        "    elif module == 'Return on Assets':\n",
        "        data = {'Return on Assets (ROA)': stock_data.get('returnOnAssets', 'N/A')}\n",
        "\n",
        "    df = pd.DataFrame([data])\n",
        "    return df\n",
        "\n",
        "def fetch_trending_stocks():\n",
        "    url = \"https://yfapi.net/v1/finance/trending/US\"\n",
        "    headers = {\"x-api-key\": \"mNeekuVLCe76wmMeBT7xU1dr0DNCGT5Ljre8w3Ba\"}\n",
        "    response = requests.get(url, headers=headers).json()\n",
        "\n",
        "    if 'finance' not in response or 'result' not in response['finance']:\n",
        "        return \"Error: Invalid response received from API.\"\n",
        "\n",
        "    trending_symbols = [stock['symbol'] for stock in response['finance']['result'][0].get('quotes', [])[:5]]\n",
        "\n",
        "    return fetch_stock_data(trending_symbols)\n",
        "\n",
        "def main():\n",
        "    symbols = input(\"Enter stock symbols separated by commas: \").split(',')\n",
        "    stock_data = fetch_stock_data(symbols)\n",
        "    if isinstance(stock_data, str):\n",
        "      print(stock_data)\n",
        "\n",
        "    else:\n",
        "      for stock in stock_data:\n",
        "            print(f\"Stock Ticker: {stock['Stock Ticker']}, Company: {stock['Company']}, Current Market Price: {stock['Current Market Price']}, 52 Week High: {stock['52 Week High']}, 52 Week Low: {stock['52 Week Low']}\")\n",
        "\n",
        "    symbol = input(\"Enter a stock symbol for additional data: \")\n",
        "    module = input(\"Choose module (52 Week High, 52 Week Low, Return on Assets): \")\n",
        "    df = fetch_additional_data(symbol, module)\n",
        "    print(df)\n",
        "\n",
        "    print(\"Trending Stocks:\")\n",
        "    trending_data = fetch_trending_stocks()\n",
        "    if isinstance(trending_data, str):\n",
        "        print(trending_data)\n",
        "    else:\n",
        "        for stock in trending_data:\n",
        "            print(f\"Stock Ticker: {stock['Stock Ticker']}, Company: {stock['Company']}, Current Market Price: {stock['Current Market Price']}, 52 Week High: {stock['52 Week High']}, 52 Week Low: {stock['52 Week Low']}\")\n",
        "\n",
        "if __name__ == \"__main__\":\n",
        "    main()"
      ],
      "metadata": {
        "colab": {
          "base_uri": "https://localhost:8080/"
        },
        "id": "HK_TTVA4eM_A",
        "outputId": "5b275275-9f42-4e6f-d502-42703727ac19"
      },
      "execution_count": 24,
      "outputs": [
        {
          "output_type": "stream",
          "name": "stdout",
          "text": [
            "Enter stock symbols separated by commas: tsla\n",
            "Stock Ticker: TSLA, Company: Tesla, Inc., Current Market Price: $290.80, 52 Week High: 488.54, 52 Week Low: 138.8\n",
            "Enter a stock symbol for additional data: tsla\n",
            "Choose module (52 Week High, 52 Week Low, Return on Assets): r\n",
            "   52 Week High  52 Week Low Return on Assets (ROA)\n",
            "0        488.54        138.8                    N/A\n",
            "Trending Stocks:\n",
            "Stock Ticker: NVDA, Company: NVIDIA Corporation, Current Market Price: $131.28, 52 Week High: 153.13, 52 Week Low: 75.606\n",
            "Stock Ticker: CRM, Company: Salesforce, Inc., Current Market Price: $307.33, 52 Week High: 369.0, 52 Week Low: 212.0\n",
            "Stock Ticker: SNOW, Company: Snowflake Inc., Current Market Price: $166.19, 52 Week High: 194.4, 52 Week Low: 107.13\n",
            "Stock Ticker: IONQ, Company: IonQ, Inc., Current Market Price: $29.93, 52 Week High: 54.74, 52 Week Low: 6.22\n",
            "Stock Ticker: BYND, Company: Beyond Meat, Inc., Current Market Price: $3.56, 52 Week High: 11.7, 52 Week Low: 3.3\n"
          ]
        }
      ]
    }
  ]
}